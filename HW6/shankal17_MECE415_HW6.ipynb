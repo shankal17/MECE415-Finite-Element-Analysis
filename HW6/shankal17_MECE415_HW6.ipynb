{
 "cells": [
  {
   "cell_type": "markdown",
   "metadata": {},
   "source": [
    "# Problem 1\n",
    "Use Mathcad, Matlab, ect to solve Logan Problems. Find the rections, nodal displacement and plot the interpolated displacement for the beams\n",
    "![title](images/ProblemStatement.PNG)"
   ]
  },
  {
   "cell_type": "markdown",
   "metadata": {},
   "source": [
    "## Part a:"
   ]
  },
  {
   "cell_type": "code",
   "execution_count": 1,
   "metadata": {},
   "outputs": [],
   "source": [
    "# Import necessary packages\n",
    "import copy\n",
    "import numpy as np\n",
    "import sympy as sp\n",
    "sp.init_printing()"
   ]
  },
  {
   "cell_type": "code",
   "execution_count": 2,
   "metadata": {},
   "outputs": [],
   "source": [
    "# Initialize problem parameters\n",
    "E, I, A, L = sp.symbols('E, I, A, L')"
   ]
  },
  {
   "cell_type": "code",
   "execution_count": 3,
   "metadata": {},
   "outputs": [],
   "source": [
    "# create stiffness matrix for element 1\n",
    "# L = np.sqrt(2*(30**2))\n",
    "C_1 = A*E/L\n",
    "C_2 = E*I/(L**3)"
   ]
  },
  {
   "cell_type": "code",
   "execution_count": 4,
   "metadata": {},
   "outputs": [
    {
     "data": {
      "text/latex": [
       "$\\displaystyle \\left[\\begin{matrix}\\frac{A C^{2} E}{L} + \\frac{12 E I S^{2}}{L^{3}} & \\frac{A C E S}{L} - \\frac{12 C E I S}{L^{3}} & - \\frac{6 E I S}{L^{2}} & - \\frac{A C^{2} E}{L} - \\frac{12 E I S^{2}}{L^{3}} & - \\frac{A C E S}{L} + \\frac{12 C E I S}{L^{3}} & - \\frac{6 E I S}{L^{2}}\\\\\\frac{A C E S}{L} - \\frac{12 C E I S}{L^{3}} & \\frac{A E S^{2}}{L} + \\frac{12 C^{2} E I}{L^{3}} & \\frac{6 C E I}{L^{2}} & - \\frac{A C E S}{L} + \\frac{12 C E I S}{L^{3}} & - \\frac{A E S^{2}}{L} - \\frac{12 C^{2} E I}{L^{3}} & \\frac{6 C E I}{L^{2}}\\\\- \\frac{6 E I S}{L^{2}} & \\frac{6 C E I}{L^{2}} & \\frac{4 E I}{L} & \\frac{6 E I S}{L^{2}} & - \\frac{6 C E I}{L^{2}} & \\frac{2 E I}{L}\\\\- \\frac{A C^{2} E}{L} - \\frac{12 E I S^{2}}{L^{3}} & - \\frac{A C E S}{L} + \\frac{12 C E I S}{L^{3}} & \\frac{6 E I S}{L^{2}} & \\frac{A C^{2} E}{L} + \\frac{12 E I S^{2}}{L^{3}} & \\frac{A C E S}{L} - \\frac{12 C E I S}{L^{3}} & \\frac{6 E I S}{L^{2}}\\\\- \\frac{A C E S}{L} + \\frac{12 C E I S}{L^{3}} & - \\frac{A E S^{2}}{L} - \\frac{12 C^{2} E I}{L^{3}} & - \\frac{6 C E I}{L^{2}} & \\frac{A C E S}{L} - \\frac{12 C E I S}{L^{3}} & \\frac{A E S^{2}}{L} + \\frac{12 C^{2} E I}{L^{3}} & - \\frac{6 C E I}{L^{2}}\\\\- \\frac{6 E I S}{L^{2}} & \\frac{6 C E I}{L^{2}} & \\frac{2 E I}{L} & \\frac{6 E I S}{L^{2}} & - \\frac{6 C E I}{L^{2}} & \\frac{4 E I}{L}\\end{matrix}\\right]$"
      ],
      "text/plain": [
       "⎡     2             2                                             2           \n",
       "⎢  A⋅C ⋅E   12⋅E⋅I⋅S      A⋅C⋅E⋅S   12⋅C⋅E⋅I⋅S   -6⋅E⋅I⋅S      A⋅C ⋅E   12⋅E⋅I\n",
       "⎢  ────── + ─────────     ─────── - ──────────   ─────────   - ────── - ──────\n",
       "⎢    L           3           L           3            2          L           3\n",
       "⎢               L                       L            L                      L \n",
       "⎢                                                                             \n",
       "⎢                               2       2                                     \n",
       "⎢ A⋅C⋅E⋅S   12⋅C⋅E⋅I⋅S     A⋅E⋅S    12⋅C ⋅E⋅I     6⋅C⋅E⋅I     A⋅C⋅E⋅S   12⋅C⋅E\n",
       "⎢ ─────── - ──────────     ────── + ─────────     ───────   - ─────── + ──────\n",
       "⎢    L           3           L           3            2          L           3\n",
       "⎢               L                       L            L                      L \n",
       "⎢                                                                             \n",
       "⎢      -6⋅E⋅I⋅S                 6⋅C⋅E⋅I            4⋅E⋅I           6⋅E⋅I⋅S    \n",
       "⎢      ─────────                ───────            ─────           ───────    \n",
       "⎢           2                       2                L                 2      \n",
       "⎢          L                       L                                  L       \n",
       "⎢                                                                             \n",
       "⎢      2             2                                           2            \n",
       "⎢   A⋅C ⋅E   12⋅E⋅I⋅S      A⋅C⋅E⋅S   12⋅C⋅E⋅I⋅S   6⋅E⋅I⋅S     A⋅C ⋅E   12⋅E⋅I⋅\n",
       "⎢ - ────── - ─────────   - ─────── + ──────────   ───────     ────── + ───────\n",
       "⎢     L           3           L           3           2         L           3 \n",
       "⎢                L                       L           L                     L  \n",
       "⎢                                                                             \n",
       "⎢                                2       2                                    \n",
       "⎢  A⋅C⋅E⋅S   12⋅C⋅E⋅I⋅S     A⋅E⋅S    12⋅C ⋅E⋅I   -6⋅C⋅E⋅I    A⋅C⋅E⋅S   12⋅C⋅E⋅\n",
       "⎢- ─────── + ──────────   - ────── - ─────────   ─────────   ─────── - ───────\n",
       "⎢     L           3           L           3           2         L           3 \n",
       "⎢                L                       L           L                     L  \n",
       "⎢                                                                             \n",
       "⎢      -6⋅E⋅I⋅S                 6⋅C⋅E⋅I            2⋅E⋅I           6⋅E⋅I⋅S    \n",
       "⎢      ─────────                ───────            ─────           ───────    \n",
       "⎢           2                       2                L                 2      \n",
       "⎣          L                       L                                  L       \n",
       "\n",
       "  2                                    ⎤\n",
       "⋅S      A⋅C⋅E⋅S   12⋅C⋅E⋅I⋅S  -6⋅E⋅I⋅S ⎥\n",
       "───   - ─────── + ──────────  ─────────⎥\n",
       "           L           3           2   ⎥\n",
       "                      L           L    ⎥\n",
       "                                       ⎥\n",
       "              2       2                ⎥\n",
       "⋅I⋅S     A⋅E⋅S    12⋅C ⋅E⋅I    6⋅C⋅E⋅I ⎥\n",
       "────   - ────── - ─────────    ─────── ⎥\n",
       "           L           3           2   ⎥\n",
       "                      L           L    ⎥\n",
       "                                       ⎥\n",
       "            -6⋅C⋅E⋅I            2⋅E⋅I  ⎥\n",
       "            ─────────           ─────  ⎥\n",
       "                 2                L    ⎥\n",
       "                L                      ⎥\n",
       "                                       ⎥\n",
       " 2                                     ⎥\n",
       "S      A⋅C⋅E⋅S   12⋅C⋅E⋅I⋅S    6⋅E⋅I⋅S ⎥\n",
       "──     ─────── - ──────────    ─────── ⎥\n",
       "          L           3            2   ⎥\n",
       "                     L            L    ⎥\n",
       "                                       ⎥\n",
       "             2       2                 ⎥\n",
       "I⋅S     A⋅E⋅S    12⋅C ⋅E⋅I    -6⋅C⋅E⋅I ⎥\n",
       "───     ────── + ─────────    ─────────⎥\n",
       "          L           3            2   ⎥\n",
       "                     L            L    ⎥\n",
       "                                       ⎥\n",
       "            -6⋅C⋅E⋅I            4⋅E⋅I  ⎥\n",
       "            ─────────           ─────  ⎥\n",
       "                 2                L    ⎥\n",
       "                L                      ⎦"
      ]
     },
     "execution_count": 4,
     "metadata": {},
     "output_type": "execute_result"
    }
   ],
   "source": [
    "# Create pattern for local stiffness matrices\n",
    "k_prime = sp.Matrix([[C_1, 0, 0, -C_1, 0, 0],\n",
    "                     [0, 12*C_2, 6*C_2*L, 0, -12*C_2, 6*C_2*L],\n",
    "                     [0, 6*C_2*L, 4*C_2*sp.Pow(L, 2), 0, -6*C_2*L, 2*C_2*sp.Pow(L, 2)],\n",
    "                     [-C_1, 0, 0, C_1, 0, 0],\n",
    "                     [0, -12*C_2, -6*C_2*L, 0, 12*C_2, -6*C_2*L],\n",
    "                     [0, 6*C_2*L, 2*C_2*sp.Pow(L, 2), 0, -6*C_2*L, 4*C_2*sp.Pow(L, 2)]])\n",
    "C, S = sp.symbols('C, S')\n",
    "T = sp.Matrix([[C, S, 0, 0, 0, 0],\n",
    "               [-S, C, 0, 0, 0, 0],\n",
    "               [0, 0, 1, 0, 0, 0],\n",
    "               [0, 0, 0, C, S, 0],\n",
    "               [0, 0, 0, -S, C, 0],\n",
    "               [0, 0, 0, 0, 0, 1]])\n",
    "stiffness_pattern = sp.transpose(T)*k_prime*T\n",
    "stiffness_pattern"
   ]
  },
  {
   "cell_type": "code",
   "execution_count": 5,
   "metadata": {},
   "outputs": [
    {
     "data": {
      "text/latex": [
       "$\\displaystyle \\left[\\begin{matrix}951189.566396126 & 934428.516768 & -251415.744421884 & -951189.566396126 & -934428.516768 & -251415.744421884\\\\934428.516768 & 951189.566396126 & 251415.744421884 & -934428.516768 & -951189.566396126 & 251415.744421884\\\\-251415.744421884 & 251415.744421884 & 10056629.7768753 & 251415.744421884 & -251415.744421884 & 5028314.88843767\\\\-951189.566396126 & -934428.516768 & 251415.744421884 & 951189.566396126 & 934428.516768 & 251415.744421884\\\\-934428.516768 & -951189.566396126 & -251415.744421884 & 934428.516768 & 951189.566396126 & -251415.744421884\\\\-251415.744421884 & 251415.744421884 & 5028314.88843767 & 251415.744421884 & -251415.744421884 & 10056629.7768753\\end{matrix}\\right]$"
      ],
      "text/plain": [
       "⎡951189.566396126     934428.516768    -251415.744421884  -951189.566396126   \n",
       "⎢                                                                             \n",
       "⎢  934428.516768    951189.566396126   251415.744421884    -934428.516768    -\n",
       "⎢                                                                             \n",
       "⎢-251415.744421884  251415.744421884   10056629.7768753   251415.744421884   -\n",
       "⎢                                                                             \n",
       "⎢-951189.566396126   -934428.516768    251415.744421884   951189.566396126    \n",
       "⎢                                                                             \n",
       "⎢ -934428.516768    -951189.566396126  -251415.744421884    934428.516768    9\n",
       "⎢                                                                             \n",
       "⎣-251415.744421884  251415.744421884   5028314.88843767   251415.744421884   -\n",
       "\n",
       "-934428.516768    -251415.744421884⎤\n",
       "                                   ⎥\n",
       "951189.566396126  251415.744421884 ⎥\n",
       "                                   ⎥\n",
       "251415.744421884  5028314.88843767 ⎥\n",
       "                                   ⎥\n",
       " 934428.516768    251415.744421884 ⎥\n",
       "                                   ⎥\n",
       "51189.566396126   -251415.744421884⎥\n",
       "                                   ⎥\n",
       "251415.744421884  10056629.7768753 ⎦"
      ]
     },
     "execution_count": 5,
     "metadata": {},
     "output_type": "execute_result"
    }
   ],
   "source": [
    "# Construct local stiffness matrix for element 1\n",
    "cross_sectional_area = 2*4\n",
    "moment_of_inertia = 2*(4**3)/12\n",
    "youngs_modulus = 10e6\n",
    "element_length = np.sqrt(2*(30**2))\n",
    "cos_ang = 30/element_length\n",
    "sin_ang = cos_ang\n",
    "\n",
    "k_1 = copy.deepcopy(stiffness_pattern)\n",
    "k_1 = k_1.subs({A:cross_sectional_area,\\\n",
    "                I:moment_of_inertia,\n",
    "                E:youngs_modulus,\n",
    "                L:element_length,\n",
    "                C:cos_ang,\n",
    "                S:sin_ang})\n",
    "k_1"
   ]
  },
  {
   "cell_type": "code",
   "execution_count": 6,
   "metadata": {},
   "outputs": [
    {
     "data": {
      "text/latex": [
       "$\\displaystyle \\left[\\begin{matrix}2666666.66666667 & 0 & 0 & -2666666.66666667 & 0 & 0\\\\0 & 47407.4074074074 & -711111.111111111 & 0 & -47407.4074074074 & -711111.111111111\\\\0 & -711111.111111111 & 14222222.2222222 & 0 & 711111.111111111 & 7111111.11111111\\\\-2666666.66666667 & 0 & 0 & 2666666.66666667 & 0 & 0\\\\0 & -47407.4074074074 & 711111.111111111 & 0 & 47407.4074074074 & 711111.111111111\\\\0 & -711111.111111111 & 7111111.11111111 & 0 & 711111.111111111 & 14222222.2222222\\end{matrix}\\right]$"
      ],
      "text/plain": [
       "⎡2666666.66666667           0                  0          -2666666.66666667   \n",
       "⎢                                                                             \n",
       "⎢        0          47407.4074074074   -711111.111111111          0          -\n",
       "⎢                                                                             \n",
       "⎢        0          -711111.111111111  14222222.2222222           0          7\n",
       "⎢                                                                             \n",
       "⎢-2666666.66666667          0                  0          2666666.66666667    \n",
       "⎢                                                                             \n",
       "⎢        0          -47407.4074074074  711111.111111111           0          4\n",
       "⎢                                                                             \n",
       "⎣        0          -711111.111111111  7111111.11111111           0          7\n",
       "\n",
       "       0                  0        ⎤\n",
       "                                   ⎥\n",
       "47407.4074074074  -711111.111111111⎥\n",
       "                                   ⎥\n",
       "11111.111111111   7111111.11111111 ⎥\n",
       "                                   ⎥\n",
       "       0                  0        ⎥\n",
       "                                   ⎥\n",
       "7407.4074074074   711111.111111111 ⎥\n",
       "                                   ⎥\n",
       "11111.111111111   14222222.2222222 ⎦"
      ]
     },
     "execution_count": 6,
     "metadata": {},
     "output_type": "execute_result"
    }
   ],
   "source": [
    "# Construct local stiffness matrix for element 2\n",
    "cos_ang = -1\n",
    "sin_ang = 0\n",
    "element_length = 30\n",
    "k_2 = copy.deepcopy(stiffness_pattern)\n",
    "k_2 = k_2.subs({A:cross_sectional_area,\\\n",
    "                I:moment_of_inertia,\n",
    "                E:youngs_modulus,\n",
    "                L:element_length,\n",
    "                C:cos_ang,\n",
    "                S:sin_ang})\n",
    "k_2"
   ]
  },
  {
   "cell_type": "code",
   "execution_count": 7,
   "metadata": {},
   "outputs": [
    {
     "data": {
      "text/latex": [
       "$\\displaystyle \\left[\\begin{matrix}951189.566396126 & 934428.516768 & -251415.744421884 & -951189.566396126 & -934428.516768 & -251415.744421884 & 0 & 0 & 0\\\\934428.516768 & 951189.566396126 & 251415.744421884 & -934428.516768 & -951189.566396126 & 251415.744421884 & 0 & 0 & 0\\\\-251415.744421884 & 251415.744421884 & 10056629.7768753 & 251415.744421884 & -251415.744421884 & 5028314.88843767 & 0 & 0 & 0\\\\-951189.566396126 & -934428.516768 & 251415.744421884 & 3617856.23306279 & 934428.516768 & 251415.744421884 & -2666666.66666667 & 0 & 0\\\\-934428.516768 & -951189.566396126 & -251415.744421884 & 934428.516768 & 998596.973803533 & -962526.855532995 & 0 & -47407.4074074074 & -711111.111111111\\\\-251415.744421884 & 251415.744421884 & 5028314.88843767 & 251415.744421884 & -962526.855532995 & 24278851.9990976 & 0 & 711111.111111111 & 7111111.11111111\\\\0 & 0 & 0 & -2666666.66666667 & 0 & 0 & 2666666.66666667 & 0 & 0\\\\0 & 0 & 0 & 0 & -47407.4074074074 & 711111.111111111 & 0 & 47407.4074074074 & 711111.111111111\\\\0 & 0 & 0 & 0 & -711111.111111111 & 7111111.11111111 & 0 & 711111.111111111 & 14222222.2222222\\end{matrix}\\right]$"
      ],
      "text/plain": [
       "⎡951189.566396126     934428.516768    -251415.744421884  -951189.566396126   \n",
       "⎢                                                                             \n",
       "⎢  934428.516768    951189.566396126   251415.744421884    -934428.516768    -\n",
       "⎢                                                                             \n",
       "⎢-251415.744421884  251415.744421884   10056629.7768753   251415.744421884   -\n",
       "⎢                                                                             \n",
       "⎢-951189.566396126   -934428.516768    251415.744421884   3617856.23306279    \n",
       "⎢                                                                             \n",
       "⎢ -934428.516768    -951189.566396126  -251415.744421884    934428.516768    9\n",
       "⎢                                                                             \n",
       "⎢-251415.744421884  251415.744421884   5028314.88843767   251415.744421884   -\n",
       "⎢                                                                             \n",
       "⎢        0                  0                  0          -2666666.66666667   \n",
       "⎢                                                                             \n",
       "⎢        0                  0                  0                  0          -\n",
       "⎢                                                                             \n",
       "⎣        0                  0                  0                  0          -\n",
       "\n",
       "-934428.516768    -251415.744421884          0                  0             \n",
       "                                                                              \n",
       "951189.566396126  251415.744421884           0                  0             \n",
       "                                                                              \n",
       "251415.744421884  5028314.88843767           0                  0             \n",
       "                                                                              \n",
       " 934428.516768    251415.744421884   -2666666.66666667          0             \n",
       "                                                                              \n",
       "98596.973803533   -962526.855532995          0          -47407.4074074074  -71\n",
       "                                                                              \n",
       "962526.855532995  24278851.9990976           0          711111.111111111   711\n",
       "                                                                              \n",
       "       0                  0          2666666.66666667           0             \n",
       "                                                                              \n",
       "47407.4074074074  711111.111111111           0          47407.4074074074   711\n",
       "                                                                              \n",
       "711111.111111111  7111111.11111111           0          711111.111111111   142\n",
       "\n",
       "     0        ⎤\n",
       "              ⎥\n",
       "     0        ⎥\n",
       "              ⎥\n",
       "     0        ⎥\n",
       "              ⎥\n",
       "     0        ⎥\n",
       "              ⎥\n",
       "1111.111111111⎥\n",
       "              ⎥\n",
       "1111.11111111 ⎥\n",
       "              ⎥\n",
       "     0        ⎥\n",
       "              ⎥\n",
       "111.111111111 ⎥\n",
       "              ⎥\n",
       "22222.2222222 ⎦"
      ]
     },
     "execution_count": 7,
     "metadata": {},
     "output_type": "execute_result"
    }
   ],
   "source": [
    "# Construct global stiffness matrix\n",
    "global_stiffness_matrix = sp.zeros(9)\n",
    "global_stiffness_matrix[0:6,0:6] = k_1\n",
    "# global_stiffness_matrix\n",
    "global_stiffness_matrix[3:,3:] = global_stiffness_matrix[3:,3:] + k_2\n",
    "global_stiffness_matrix"
   ]
  },
  {
   "cell_type": "code",
   "execution_count": 8,
   "metadata": {},
   "outputs": [
    {
     "data": {
      "text/latex": [
       "$\\displaystyle \\left[\\begin{matrix}3617856.23306279 & 934428.516768 & 251415.744421884\\\\934428.516768 & 998596.973803533 & -962526.855532995\\\\251415.744421884 & -962526.855532995 & 24278851.9990976\\end{matrix}\\right]$"
      ],
      "text/plain": [
       "⎡3617856.23306279    934428.516768    251415.744421884 ⎤\n",
       "⎢                                                      ⎥\n",
       "⎢ 934428.516768    998596.973803533   -962526.855532995⎥\n",
       "⎢                                                      ⎥\n",
       "⎣251415.744421884  -962526.855532995  24278851.9990976 ⎦"
      ]
     },
     "execution_count": 8,
     "metadata": {},
     "output_type": "execute_result"
    }
   ],
   "source": [
    "# Reduce the global stiffness matrix from what is constrained\n",
    "reduced_stiffness_matrix = global_stiffness_matrix[3:6, 3:6]\n",
    "reduced_stiffness_matrix"
   ]
  },
  {
   "cell_type": "code",
   "execution_count": 9,
   "metadata": {},
   "outputs": [
    {
     "data": {
      "text/latex": [
       "$\\displaystyle \\left[\\begin{matrix}0\\\\-1500\\\\0\\end{matrix}\\right]$"
      ],
      "text/plain": [
       "⎡  0  ⎤\n",
       "⎢     ⎥\n",
       "⎢-1500⎥\n",
       "⎢     ⎥\n",
       "⎣  0  ⎦"
      ]
     },
     "execution_count": 9,
     "metadata": {},
     "output_type": "execute_result"
    }
   ],
   "source": [
    "# Construct reduced force matrix\n",
    "reduced_force_matrix = sp.Matrix([0, -1500, 0])\n",
    "reduced_force_matrix"
   ]
  },
  {
   "cell_type": "code",
   "execution_count": 10,
   "metadata": {},
   "outputs": [
    {
     "data": {
      "text/latex": [
       "$\\displaystyle \\left[\\begin{matrix}0.000548994474615222\\\\-0.00210161222558867\\\\-8.90027280385732 \\cdot 10^{-5}\\end{matrix}\\right]$"
      ],
      "text/plain": [
       "⎡0.000548994474615222⎤\n",
       "⎢                    ⎥\n",
       "⎢-0.00210161222558867⎥\n",
       "⎢                    ⎥\n",
       "⎣-8.90027280385732e-5⎦"
      ]
     },
     "execution_count": 10,
     "metadata": {},
     "output_type": "execute_result"
    }
   ],
   "source": [
    "# Solve for unconstrained displacements at node 2\n",
    "non_constrained_displacements = reduced_stiffness_matrix.LUsolve(reduced_force_matrix)\n",
    "non_constrained_displacements"
   ]
  },
  {
   "cell_type": "markdown",
   "metadata": {},
   "source": [
    "## Part b:"
   ]
  },
  {
   "cell_type": "code",
   "execution_count": 11,
   "metadata": {},
   "outputs": [
    {
     "name": "stdout",
     "output_type": "stream",
     "text": [
      "Global Force Matrix:\n"
     ]
    },
    {
     "data": {
      "text/latex": [
       "$\\displaystyle \\left[\\begin{matrix}1464.0\\\\1463.7\\\\218.87\\\\-2.8422 \\cdot 10^{-14}\\\\-1500.0\\\\-4.5475 \\cdot 10^{-13}\\\\-1464.0\\\\336.34\\\\2361.6\\end{matrix}\\right]$"
      ],
      "text/plain": [
       "⎡  1464.0   ⎤\n",
       "⎢           ⎥\n",
       "⎢  1463.7   ⎥\n",
       "⎢           ⎥\n",
       "⎢  218.87   ⎥\n",
       "⎢           ⎥\n",
       "⎢-2.8422e-14⎥\n",
       "⎢           ⎥\n",
       "⎢  -1500.0  ⎥\n",
       "⎢           ⎥\n",
       "⎢-4.5475e-13⎥\n",
       "⎢           ⎥\n",
       "⎢  -1464.0  ⎥\n",
       "⎢           ⎥\n",
       "⎢  336.34   ⎥\n",
       "⎢           ⎥\n",
       "⎣  2361.6   ⎦"
      ]
     },
     "execution_count": 11,
     "metadata": {},
     "output_type": "execute_result"
    }
   ],
   "source": [
    "# Solve for all loads/reactions\n",
    "displacements = sp.Matrix([0, 0, 0, non_constrained_displacements, 0, 0, 0])\n",
    "equivalent_nodal_forces = sp.Matrix([0, 0, 0, 0, 0, 0, 0, -300, -1500])\n",
    "F = sp.N(global_stiffness_matrix*displacements, 5) - equivalent_nodal_forces\n",
    "print(\"Global Force Matrix:\")\n",
    "F"
   ]
  },
  {
   "cell_type": "markdown",
   "metadata": {},
   "source": [
    "## Part c:"
   ]
  },
  {
   "cell_type": "code",
   "execution_count": 12,
   "metadata": {},
   "outputs": [
    {
     "data": {
      "text/latex": [
       "$\\displaystyle \\left[\\begin{matrix}2070.15700129793\\\\-0.230816485372475\\\\218.870514193468\\\\-2070.15700129793\\\\0.230816485372475\\\\-228.663228314459\\end{matrix}\\right]$"
      ],
      "text/plain": [
       "⎡ 2070.15700129793 ⎤\n",
       "⎢                  ⎥\n",
       "⎢-0.230816485372475⎥\n",
       "⎢                  ⎥\n",
       "⎢ 218.870514193468 ⎥\n",
       "⎢                  ⎥\n",
       "⎢-2070.15700129793 ⎥\n",
       "⎢                  ⎥\n",
       "⎢0.230816485372475 ⎥\n",
       "⎢                  ⎥\n",
       "⎣-228.663228314459 ⎦"
      ]
     },
     "execution_count": 12,
     "metadata": {},
     "output_type": "execute_result"
    }
   ],
   "source": [
    "# Calculate local forces of element 1\n",
    "element_length = np.sqrt(2*(30**2))\n",
    "element_displacements_1 = sp.Matrix(displacements[0:6])\n",
    "k_prime_1 = copy.deepcopy(k_prime)\n",
    "k_prime_1 = k_prime_1.subs({A:cross_sectional_area,\\\n",
    "                            E:youngs_modulus,\n",
    "                            I:moment_of_inertia,\n",
    "                            L:element_length})\n",
    "cos_ang = 30/element_length\n",
    "sin_ang = cos_ang\n",
    "rotation_matrix_1 = copy.deepcopy(T)\n",
    "rotation_matrix_1 = rotation_matrix_1.subs({C:cos_ang,\n",
    "                                            S:sin_ang})\n",
    "local_forces_1 = k_prime_1*rotation_matrix_1*element_displacements_1\n",
    "local_forces_1"
   ]
  },
  {
   "cell_type": "code",
   "execution_count": 13,
   "metadata": {},
   "outputs": [
    {
     "name": "stdout",
     "output_type": "stream",
     "text": [
      "max stress in element 1: 301.643980471203 psi\n"
     ]
    }
   ],
   "source": [
    "# Choose greatest axial load in the element and calculate the greatest axial stress in the element\n",
    "greatest_axial = np.abs(local_forces_1[0])/cross_sectional_area\n",
    "\n",
    "# Choose greates bending moment in the element and calculate the greatest normal stress due to bending\n",
    "greatest_bending = np.abs(local_forces_1[-1])*2/moment_of_inertia\n",
    "\n",
    "# Add the greatest axial stress and normal stress due to bending\n",
    "print(\"max stress in element 1: {} psi\".format(greatest_axial + greatest_bending))"
   ]
  },
  {
   "cell_type": "code",
   "execution_count": 14,
   "metadata": {},
   "outputs": [
    {
     "data": {
      "text/latex": [
       "$\\displaystyle \\left[\\begin{matrix}-1463.98526564059\\\\36.3411581634405\\\\228.663228314459\\\\1463.98526564059\\\\-36.3411581634405\\\\861.571516588757\\end{matrix}\\right]$"
      ],
      "text/plain": [
       "⎡-1463.98526564059⎤\n",
       "⎢                 ⎥\n",
       "⎢36.3411581634405 ⎥\n",
       "⎢                 ⎥\n",
       "⎢228.663228314459 ⎥\n",
       "⎢                 ⎥\n",
       "⎢1463.98526564059 ⎥\n",
       "⎢                 ⎥\n",
       "⎢-36.3411581634405⎥\n",
       "⎢                 ⎥\n",
       "⎣861.571516588757 ⎦"
      ]
     },
     "execution_count": 14,
     "metadata": {},
     "output_type": "execute_result"
    }
   ],
   "source": [
    "# Calculate local forces of element 2\n",
    "element_length = 30\n",
    "element_displacements_2 = sp.Matrix(displacements[3:])\n",
    "k_prime_2 = copy.deepcopy(k_prime)\n",
    "k_prime_2 = k_prime_2.subs({A:cross_sectional_area,\\\n",
    "                            E:youngs_modulus,\n",
    "                            I:moment_of_inertia,\n",
    "                            L:element_length})\n",
    "cos_ang = -1\n",
    "sin_ang = 0\n",
    "rotation_matrix_2 = copy.deepcopy(T)\n",
    "rotation_matrix_2 = rotation_matrix_2.subs({C:cos_ang,\n",
    "                                            S:sin_ang})\n",
    "local_forces = k_prime_2*rotation_matrix_2*element_displacements_2\n",
    "local_forces"
   ]
  },
  {
   "cell_type": "code",
   "execution_count": 15,
   "metadata": {},
   "outputs": [
    {
     "name": "stdout",
     "output_type": "stream",
     "text": [
      "max stress in element 2: 344.542817565466 psi\n"
     ]
    }
   ],
   "source": [
    "# Choose greated axial load in the element and calculate the greatest axial stress in the element\n",
    "greatest_axial = np.abs(local_forces[0])/cross_sectional_area\n",
    "\n",
    "# Choose greates bending moment in the element and calculate the greatest normal stress due to bending\n",
    "greatest_bending = np.abs(local_forces[-1])*2/moment_of_inertia\n",
    "\n",
    "# Add the greatest axial stress and normal stress due to bending\n",
    "print(\"max stress in element 2: {} psi\".format(greatest_axial + greatest_bending))"
   ]
  },
  {
   "cell_type": "code",
   "execution_count": null,
   "metadata": {},
   "outputs": [],
   "source": []
  }
 ],
 "metadata": {
  "kernelspec": {
   "display_name": "Python 3",
   "language": "python",
   "name": "python3"
  },
  "language_info": {
   "codemirror_mode": {
    "name": "ipython",
    "version": 3
   },
   "file_extension": ".py",
   "mimetype": "text/x-python",
   "name": "python",
   "nbconvert_exporter": "python",
   "pygments_lexer": "ipython3",
   "version": "3.8.3rc1"
  }
 },
 "nbformat": 4,
 "nbformat_minor": 4
}
