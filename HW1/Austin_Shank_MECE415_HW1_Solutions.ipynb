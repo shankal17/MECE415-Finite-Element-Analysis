{
 "cells": [
  {
   "cell_type": "markdown",
   "metadata": {},
   "source": [
    "# Problem 2.3  \n",
    "![title](images/P2.3.PNG)"
   ]
  },
  {
   "cell_type": "code",
   "execution_count": 1,
   "metadata": {},
   "outputs": [],
   "source": [
    "import sympy as sp\n",
    "sp.init_printing()"
   ]
  },
  {
   "cell_type": "markdown",
   "metadata": {},
   "source": [
    "## Part a:\n",
    "For the spring assemblage shown in Figure P2-3, obtain the global stiffness matrix by direct superposition."
   ]
  },
  {
   "cell_type": "code",
   "execution_count": 2,
   "metadata": {},
   "outputs": [
    {
     "data": {
      "text/latex": [
       "$\\displaystyle \\left[\\begin{matrix}k & - k & 0 & 0 & 0\\\\- k & 2 k & - k & 0 & 0\\\\0 & - k & 2 k & - k & 0\\\\0 & 0 & - k & 2 k & - k\\\\0 & 0 & 0 & - k & k\\end{matrix}\\right]$"
      ],
      "text/plain": [
       "⎡k   -k    0    0   0 ⎤\n",
       "⎢                     ⎥\n",
       "⎢-k  2⋅k  -k    0   0 ⎥\n",
       "⎢                     ⎥\n",
       "⎢0   -k   2⋅k  -k   0 ⎥\n",
       "⎢                     ⎥\n",
       "⎢0    0   -k   2⋅k  -k⎥\n",
       "⎢                     ⎥\n",
       "⎣0    0    0   -k   k ⎦"
      ]
     },
     "execution_count": 2,
     "metadata": {},
     "output_type": "execute_result"
    }
   ],
   "source": [
    "# Construct global stiffness matrix\n",
    "k = sp.Symbol('k')\n",
    "global_stiffness_matrix = sp.Matrix([[k, -k, 0, 0, 0],\\\n",
    "                                     [-k, 2*k, -k, 0, 0],\n",
    "                                     [0, -k, 2*k, -k, 0],\n",
    "                                     [0, 0, -k, 2*k, -k],\n",
    "                                     [0, 0, 0, -k, k]])\n",
    "global_stiffness_matrix"
   ]
  },
  {
   "cell_type": "markdown",
   "metadata": {},
   "source": [
    "## Part b:  \n",
    "If nodes 1 and 5 are fixed and a force P is applied at node 3, determine the nodal displacements"
   ]
  },
  {
   "cell_type": "code",
   "execution_count": 3,
   "metadata": {},
   "outputs": [
    {
     "data": {
      "text/latex": [
       "$\\displaystyle \\left[\\begin{matrix}0\\\\\\frac{P}{2 k}\\\\\\frac{P}{k}\\\\\\frac{P}{2 k}\\\\0\\end{matrix}\\right]$"
      ],
      "text/plain": [
       "⎡ 0 ⎤\n",
       "⎢   ⎥\n",
       "⎢ P ⎥\n",
       "⎢───⎥\n",
       "⎢2⋅k⎥\n",
       "⎢   ⎥\n",
       "⎢ P ⎥\n",
       "⎢ ─ ⎥\n",
       "⎢ k ⎥\n",
       "⎢   ⎥\n",
       "⎢ P ⎥\n",
       "⎢───⎥\n",
       "⎢2⋅k⎥\n",
       "⎢   ⎥\n",
       "⎣ 0 ⎦"
      ]
     },
     "execution_count": 3,
     "metadata": {},
     "output_type": "execute_result"
    }
   ],
   "source": [
    "# Reduce global stiffness matrix appropriately\n",
    "reduced_stiffness_matrix = global_stiffness_matrix[1:-1,1:-1]\n",
    "\n",
    "# Create a column vector of applied forces on unconstrined node degrees of freedom\n",
    "P = sp.Symbol('P')\n",
    "reduced_force_matrix = sp.Matrix([0, P, 0])\n",
    "\n",
    "# Solve for the unconstrained node displacements\n",
    "non_constrained_displacements = reduced_stiffness_matrix.LUsolve(reduced_force_matrix)\n",
    "\n",
    "# Add known displacements of the constrined nodes back in\n",
    "nodal_displacements = sp.Matrix([0, non_constrained_displacements, 0])\n",
    "nodal_displacements"
   ]
  },
  {
   "cell_type": "markdown",
   "metadata": {},
   "source": [
    "## Part c:  \n",
    "Determine the reactions at the fixed nodes 1 and 5."
   ]
  },
  {
   "cell_type": "code",
   "execution_count": 4,
   "metadata": {},
   "outputs": [
    {
     "data": {
      "text/latex": [
       "$\\displaystyle \\left[\\begin{matrix}- \\frac{P}{2}\\\\0\\\\P\\\\0\\\\- \\frac{P}{2}\\end{matrix}\\right]$"
      ],
      "text/plain": [
       "⎡-P ⎤\n",
       "⎢───⎥\n",
       "⎢ 2 ⎥\n",
       "⎢   ⎥\n",
       "⎢ 0 ⎥\n",
       "⎢   ⎥\n",
       "⎢ P ⎥\n",
       "⎢   ⎥\n",
       "⎢ 0 ⎥\n",
       "⎢   ⎥\n",
       "⎢-P ⎥\n",
       "⎢───⎥\n",
       "⎣ 2 ⎦"
      ]
     },
     "execution_count": 4,
     "metadata": {},
     "output_type": "execute_result"
    }
   ],
   "source": [
    "# Solve for rection forces\n",
    "F = global_stiffness_matrix*nodal_displacements\n",
    "F"
   ]
  },
  {
   "cell_type": "markdown",
   "metadata": {},
   "source": [
    "# Problem 2.4  \n",
    "Sove Problem 2.3 with P = 0 (no force applied at node 3) and with node 5 given a fixed, known displacement of $\\delta$ as shown in Figure P2-4.  \n",
    "![title](images/P2.4.PNG)"
   ]
  },
  {
   "cell_type": "code",
   "execution_count": 5,
   "metadata": {},
   "outputs": [
    {
     "name": "stdout",
     "output_type": "stream",
     "text": [
      "Nodal Displacements:\n"
     ]
    },
    {
     "data": {
      "text/latex": [
       "$\\displaystyle \\left[\\begin{matrix}0\\\\\\frac{\\delta}{4}\\\\\\frac{\\delta}{2}\\\\\\frac{3 \\delta}{4}\\\\\\delta\\end{matrix}\\right]$"
      ],
      "text/plain": [
       "⎡   0    ⎤\n",
       "⎢        ⎥\n",
       "⎢ \\delta ⎥\n",
       "⎢ ────── ⎥\n",
       "⎢   4    ⎥\n",
       "⎢        ⎥\n",
       "⎢ \\delta ⎥\n",
       "⎢ ────── ⎥\n",
       "⎢   2    ⎥\n",
       "⎢        ⎥\n",
       "⎢3⋅\\delta⎥\n",
       "⎢────────⎥\n",
       "⎢   4    ⎥\n",
       "⎢        ⎥\n",
       "⎣ \\delta ⎦"
      ]
     },
     "execution_count": 5,
     "metadata": {},
     "output_type": "execute_result"
    }
   ],
   "source": [
    "# Solve for nodal displacements\n",
    "delta = sp.Symbol(\"\\delta\")\n",
    "reduced_force_matrix = sp.Matrix([0, 0, k*delta])\n",
    "non_constrained_displacements = reduced_stiffness_matrix.LUsolve(reduced_force_matrix)\n",
    "\n",
    "# Add known displacements of the constrined nodes back in\n",
    "nodal_displacements = sp.Matrix([0, non_constrained_displacements, delta])\n",
    "print(\"Nodal Displacements:\")\n",
    "nodal_displacements"
   ]
  },
  {
   "cell_type": "code",
   "execution_count": 6,
   "metadata": {},
   "outputs": [
    {
     "name": "stdout",
     "output_type": "stream",
     "text": [
      "Nodal Forces:\n"
     ]
    },
    {
     "data": {
      "text/latex": [
       "$\\displaystyle \\left[\\begin{matrix}- \\frac{\\delta k}{4}\\\\0\\\\0\\\\0\\\\\\frac{\\delta k}{4}\\end{matrix}\\right]$"
      ],
      "text/plain": [
       "⎡-\\delta⋅k ⎤\n",
       "⎢──────────⎥\n",
       "⎢    4     ⎥\n",
       "⎢          ⎥\n",
       "⎢    0     ⎥\n",
       "⎢          ⎥\n",
       "⎢    0     ⎥\n",
       "⎢          ⎥\n",
       "⎢    0     ⎥\n",
       "⎢          ⎥\n",
       "⎢ \\delta⋅k ⎥\n",
       "⎢ ──────── ⎥\n",
       "⎣    4     ⎦"
      ]
     },
     "execution_count": 6,
     "metadata": {},
     "output_type": "execute_result"
    }
   ],
   "source": [
    "# Solve for rection forces\n",
    "print(\"Nodal Forces:\")\n",
    "F = global_stiffness_matrix*nodal_displacements\n",
    "F"
   ]
  },
  {
   "cell_type": "markdown",
   "metadata": {},
   "source": [
    "# Problem 2.17  \n",
    "For the five-spring assemblage shown in Figure P2-17, determine the displacements at nodes 2 and 3 and the reactions at nodes 1 and 4. Assume the rigid vertical bars at nodes 2 and 3 connecting the springs remain horizontal at all times but are free to slide or displace left or right. There is an applied force at node 3 of 1000 N to the right.  \n",
    "![title](images/P2.17.PNG)  \n",
    "$Let\\>k_1 = 500 \\frac{N}{mm},\\>\\>\\>\\>\\> k_2 = k_3 = 300 \\frac{N}{mm},\\>\\>\\>\\>\\> k_4 = k_5 = 400 \\frac{N}{mm}$   "
   ]
  },
  {
   "cell_type": "code",
   "execution_count": 7,
   "metadata": {},
   "outputs": [
    {
     "data": {
      "text/latex": [
       "$\\displaystyle \\left[\\begin{matrix}k_{1} & - k_{1} & 0 & 0\\\\- k_{1} & k_{1} + k_{2} + k_{3} + k_{5} & - k_{2} - k_{3} & - k_{5}\\\\0 & - k_{2} - k_{3} & k_{2} + k_{3} + k_{4} & - k_{4}\\\\0 & - k_{5} & - k_{4} & k_{4} + k_{5}\\end{matrix}\\right]$"
      ],
      "text/plain": [
       "⎡k₁          -k₁              0           0   ⎤\n",
       "⎢                                             ⎥\n",
       "⎢-k₁  k₁ + k₂ + k₃ + k₅    -k₂ - k₃      -k₅  ⎥\n",
       "⎢                                             ⎥\n",
       "⎢ 0       -k₂ - k₃       k₂ + k₃ + k₄    -k₄  ⎥\n",
       "⎢                                             ⎥\n",
       "⎣ 0          -k₅             -k₄       k₄ + k₅⎦"
      ]
     },
     "execution_count": 7,
     "metadata": {},
     "output_type": "execute_result"
    }
   ],
   "source": [
    "# assemble global stiffness matrix by inspection (symbolically since it's easy to visualize)\n",
    "k1, k2, k3, k4, k5 = sp.symbols('k_1, k_2, k_3, k_4, k_5')\n",
    "global_stiffness_matrix = sp.Matrix([[k1, -k1, 0, 0],\\\n",
    "                                     [-k1, k1+k2+k3+k5, -k2-k3, -k5],\n",
    "                                     [0, -k2-k3, k2+k3+k4, -k4],\n",
    "                                     [0, -k5, -k4, k4+k5]])\n",
    "global_stiffness_matrix"
   ]
  },
  {
   "cell_type": "code",
   "execution_count": 8,
   "metadata": {},
   "outputs": [
    {
     "data": {
      "text/latex": [
       "$\\displaystyle \\left[\\begin{matrix}500 & -500 & 0 & 0\\\\-500 & 1500 & -600 & -400\\\\0 & -600 & 1000 & -400\\\\0 & -400 & -400 & 800\\end{matrix}\\right]$"
      ],
      "text/plain": [
       "⎡500   -500   0     0  ⎤\n",
       "⎢                      ⎥\n",
       "⎢-500  1500  -600  -400⎥\n",
       "⎢                      ⎥\n",
       "⎢ 0    -600  1000  -400⎥\n",
       "⎢                      ⎥\n",
       "⎣ 0    -400  -400  800 ⎦"
      ]
     },
     "execution_count": 8,
     "metadata": {},
     "output_type": "execute_result"
    }
   ],
   "source": [
    "# populate global stiffness matrix with numbers\n",
    "global_stiffness_matrix = global_stiffness_matrix.subs({k1:500,\\\n",
    "                                                        k2:300,\n",
    "                                                        k3:300,\n",
    "                                                        k4:400,\n",
    "                                                        k5:400})\n",
    "global_stiffness_matrix"
   ]
  },
  {
   "cell_type": "code",
   "execution_count": 9,
   "metadata": {},
   "outputs": [
    {
     "data": {
      "text/latex": [
       "$\\displaystyle \\left[\\begin{matrix}0\\\\0.52632\\\\1.3158\\\\0\\end{matrix}\\right]$"
      ],
      "text/plain": [
       "⎡   0   ⎤\n",
       "⎢       ⎥\n",
       "⎢0.52632⎥\n",
       "⎢       ⎥\n",
       "⎢1.3158 ⎥\n",
       "⎢       ⎥\n",
       "⎣   0   ⎦"
      ]
     },
     "execution_count": 9,
     "metadata": {},
     "output_type": "execute_result"
    }
   ],
   "source": [
    "# Construct reduced stiffness matrix\n",
    "reduced_stiffness_matrix = global_stiffness_matrix[1:-1,1:-1]\n",
    "\n",
    "# Create column vector of forces on non-constrained nodes\n",
    "reduced_force_matrix = sp.Matrix([0, 1000])\n",
    "\n",
    "# Solve for displacements of unconstrined nodes\n",
    "non_constrained_displacements = sp.N(reduced_stiffness_matrix.LUsolve(reduced_force_matrix), 5)\n",
    "\n",
    "# Add known displacements of the constrined nodes back in\n",
    "nodal_displacements = sp.Matrix([0, non_constrained_displacements, 0])\n",
    "nodal_displacements"
   ]
  },
  {
   "cell_type": "code",
   "execution_count": 10,
   "metadata": {},
   "outputs": [
    {
     "data": {
      "text/latex": [
       "$\\displaystyle \\left[\\begin{matrix}-263.16\\\\0\\\\1000.0\\\\-736.84\\end{matrix}\\right]$"
      ],
      "text/plain": [
       "⎡-263.16⎤\n",
       "⎢       ⎥\n",
       "⎢   0   ⎥\n",
       "⎢       ⎥\n",
       "⎢1000.0 ⎥\n",
       "⎢       ⎥\n",
       "⎣-736.84⎦"
      ]
     },
     "execution_count": 10,
     "metadata": {},
     "output_type": "execute_result"
    }
   ],
   "source": [
    "# Solve for the reaction forces\n",
    "F = global_stiffness_matrix*nodal_displacements\n",
    "F"
   ]
  }
 ],
 "metadata": {
  "kernelspec": {
   "display_name": "Python 3",
   "language": "python",
   "name": "python3"
  },
  "language_info": {
   "codemirror_mode": {
    "name": "ipython",
    "version": 3
   },
   "file_extension": ".py",
   "mimetype": "text/x-python",
   "name": "python",
   "nbconvert_exporter": "python",
   "pygments_lexer": "ipython3",
   "version": "3.8.3rc1"
  }
 },
 "nbformat": 4,
 "nbformat_minor": 4
}
