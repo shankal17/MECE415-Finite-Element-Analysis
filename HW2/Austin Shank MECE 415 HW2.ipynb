{
 "cells": [
  {
   "cell_type": "markdown",
   "metadata": {},
   "source": [
    "# Problem 2.17  \n",
    "For the five-spring assemblage shown in Figure P2-17, determine the displacements at nodes 2 and 3 and the reactions at nodes 1 and 4. Assume the rigid vertical bars at nodes 2 and 3 connecting the springs remain horizontal at all times but are free to slide or displace left or right. There is an applied force at node 3 of 1000 N to the right. Use minimum potential energy method to set up the governing matrix equation.\n",
    "![title](images/P2.17.PNG)  \n",
    "$Let\\>k_1 = 500 \\frac{N}{mm},\\>\\>\\>\\>\\> k_2 = k_3 = 300 \\frac{N}{mm},\\>\\>\\>\\>\\> k_4 = k_5 = 400 \\frac{N}{mm}$   "
   ]
  },
  {
   "cell_type": "code",
   "execution_count": 1,
   "metadata": {},
   "outputs": [],
   "source": [
    "# Import necessary packages\n",
    "import sympy as sp\n",
    "sp.init_printing()"
   ]
  },
  {
   "cell_type": "code",
   "execution_count": 2,
   "metadata": {},
   "outputs": [],
   "source": [
    "# Create necessary symbols\n",
    "k1, k2, k3, k4, k5 = sp.symbols('k_1, k_2, k_3, k_4, k_5')\n",
    "force_list = sp.symbols('F1, F2, F3, F4')\n",
    "displacement_list = sp.symbols('u_1, u_2, u_3, u_4')\n",
    "force_column_matrix = sp.Matrix(force_list)\n",
    "nodal_displacement_column_matrix = sp.Matrix(displacement_list)"
   ]
  },
  {
   "cell_type": "code",
   "execution_count": 3,
   "metadata": {},
   "outputs": [
    {
     "data": {
      "image/png": "[encoded data removed]",
      "text/latex": [
       "$\\displaystyle F_{1} u_{1} + F_{2} u_{2} + F_{3} u_{3} + F_{4} u_{4} + 0.5 k_{1} \\left(- u_{1} + u_{2}\\right)^{2} + 0.5 k_{2} \\left(- u_{2} + u_{3}\\right)^{2} + 0.5 k_{3} \\left(- u_{2} + u_{3}\\right)^{2} + 0.5 k_{4} \\left(- u_{3} + u_{4}\\right)^{2} + 0.5 k_{5} \\left(- u_{2} + u_{4}\\right)^{2}$"
      ],
      "text/plain": [
       "                                                 2                    2       \n",
       "F₁⋅u₁ + F₂⋅u₂ + F₃⋅u₃ + F₄⋅u₄ + 0.5⋅k₁⋅(-u₁ + u₂)  + 0.5⋅k₂⋅(-u₂ + u₃)  + 0.5⋅\n",
       "\n",
       "             2                    2                    2\n",
       "k₃⋅(-u₂ + u₃)  + 0.5⋅k₄⋅(-u₃ + u₄)  + 0.5⋅k₅⋅(-u₂ + u₄) "
      ]
     },
     "execution_count": 3,
     "metadata": {},
     "output_type": "execute_result"
    }
   ],
   "source": [
    "# Formulate strain energy of the system\n",
    "U = 1/2*(k1*sp.Pow((displacement_list[1]-displacement_list[0]),2)\\\n",
    "        +k2*sp.Pow((displacement_list[2]-displacement_list[1]),2)\n",
    "        +k3*sp.Pow((displacement_list[2]-displacement_list[1]),2)\n",
    "        +k4*sp.Pow((displacement_list[3]-displacement_list[2]),2)\n",
    "        +k5*sp.Pow((displacement_list[3]-displacement_list[1]),2))\n",
    "\n",
    "# Formulate potential energy by external nodal forces\n",
    "sig = -sp.transpose(force_column_matrix)*nodal_displacement_column_matrix\n",
    "sig = sig[0]\n",
    "\n",
    "# Formulate total potential energy of the assemblage\n",
    "potential_energy = U-sig\n",
    "potential_energy"
   ]
  },
  {
   "cell_type": "code",
   "execution_count": 4,
   "metadata": {},
   "outputs": [
    {
     "data": {
      "text/latex": [
       "$\\displaystyle \\left[\\begin{matrix}1.0 k_{1} & - 1.0 k_{1} & 0 & 0\\\\- 1.0 k_{1} & 1.0 k_{1} + 1.0 k_{2} + 1.0 k_{3} + 1.0 k_{5} & - 1.0 k_{2} - 1.0 k_{3} & - 1.0 k_{5}\\\\0 & - 1.0 k_{2} - 1.0 k_{3} & 1.0 k_{2} + 1.0 k_{3} + 1.0 k_{4} & - 1.0 k_{4}\\\\0 & - 1.0 k_{5} & - 1.0 k_{4} & 1.0 k_{4} + 1.0 k_{5}\\end{matrix}\\right]$"
      ],
      "text/plain": [
       "⎡1.0⋅k₁                -1.0⋅k₁                          0                     \n",
       "⎢                                                                             \n",
       "⎢-1.0⋅k₁  1.0⋅k₁ + 1.0⋅k₂ + 1.0⋅k₃ + 1.0⋅k₅      -1.0⋅k₂ - 1.0⋅k₃          -1.\n",
       "⎢                                                                             \n",
       "⎢   0             -1.0⋅k₂ - 1.0⋅k₃           1.0⋅k₂ + 1.0⋅k₃ + 1.0⋅k₄      -1.\n",
       "⎢                                                                             \n",
       "⎣   0                  -1.0⋅k₅                       -1.0⋅k₄           1.0⋅k₄ \n",
       "\n",
       "0       ⎤\n",
       "        ⎥\n",
       "0⋅k₅    ⎥\n",
       "        ⎥\n",
       "0⋅k₄    ⎥\n",
       "        ⎥\n",
       "+ 1.0⋅k₅⎦"
      ]
     },
     "execution_count": 4,
     "metadata": {},
     "output_type": "execute_result"
    }
   ],
   "source": [
    "n = len(displacement_list)\n",
    "global_stiffness_matrix = sp.zeros(n, n)\n",
    "\n",
    "# Populate global stiffness Matrix with appropriate partial derivatives\n",
    "for i, axis_i_displacement in enumerate(displacement_list):\n",
    "    for j, axis_j_displacement in enumerate(displacement_list):\n",
    "        global_stiffness_matrix[i, j] = sp.expand(sp.diff(potential_energy, displacement_list[i])).coeff(displacement_list[j], 1)\n",
    "global_stiffness_matrix"
   ]
  },
  {
   "cell_type": "code",
   "execution_count": 5,
   "metadata": {},
   "outputs": [
    {
     "data": {
      "text/latex": [
       "$\\displaystyle \\left[\\begin{matrix}500.0 & -500.0 & 0 & 0\\\\-500.0 & 1500.0 & -600.0 & -400.0\\\\0 & -600.0 & 1000.0 & -400.0\\\\0 & -400.0 & -400.0 & 800.0\\end{matrix}\\right]$"
      ],
      "text/plain": [
       "⎡500.0   -500.0    0       0   ⎤\n",
       "⎢                              ⎥\n",
       "⎢-500.0  1500.0  -600.0  -400.0⎥\n",
       "⎢                              ⎥\n",
       "⎢  0     -600.0  1000.0  -400.0⎥\n",
       "⎢                              ⎥\n",
       "⎣  0     -400.0  -400.0  800.0 ⎦"
      ]
     },
     "execution_count": 5,
     "metadata": {},
     "output_type": "execute_result"
    }
   ],
   "source": [
    "# populate global stiffness matrix with numbers\n",
    "global_stiffness_matrix = global_stiffness_matrix.subs({k1:500,\\\n",
    "                                                 k2:300,\n",
    "                                                 k3:300,\n",
    "                                                 k4:400,\n",
    "                                                 k5:400})\n",
    "\n",
    "# populate force matrix with numbers\n",
    "force_column_matrix = force_column_matrix.subs({force_list[1]:0,\\\n",
    "                                                force_list[2]:1000})\n",
    "\n",
    "# populate nodal displacement matrix with numbers\n",
    "nodal_displacement_column_matrix = nodal_displacement_column_matrix.subs({displacement_list[0]:0,\\\n",
    "                                                                          displacement_list[-1]:0})\n",
    "global_stiffness_matrix"
   ]
  },
  {
   "cell_type": "code",
   "execution_count": 6,
   "metadata": {},
   "outputs": [
    {
     "data": {
      "text/latex": [
       "$\\displaystyle \\left[\\begin{matrix}F_{1}\\\\0\\\\1000\\\\F_{4}\\end{matrix}\\right]$"
      ],
      "text/plain": [
       "⎡ F₁ ⎤\n",
       "⎢    ⎥\n",
       "⎢ 0  ⎥\n",
       "⎢    ⎥\n",
       "⎢1000⎥\n",
       "⎢    ⎥\n",
       "⎣ F₄ ⎦"
      ]
     },
     "execution_count": 6,
     "metadata": {},
     "output_type": "execute_result"
    }
   ],
   "source": [
    "force_column_matrix"
   ]
  },
  {
   "cell_type": "code",
   "execution_count": 7,
   "metadata": {},
   "outputs": [
    {
     "data": {
      "text/latex": [
       "$\\displaystyle \\left[\\begin{matrix}0\\\\u_{2}\\\\u_{3}\\\\0\\end{matrix}\\right]$"
      ],
      "text/plain": [
       "⎡0 ⎤\n",
       "⎢  ⎥\n",
       "⎢u₂⎥\n",
       "⎢  ⎥\n",
       "⎢u₃⎥\n",
       "⎢  ⎥\n",
       "⎣0 ⎦"
      ]
     },
     "execution_count": 7,
     "metadata": {},
     "output_type": "execute_result"
    }
   ],
   "source": [
    "nodal_displacement_column_matrix"
   ]
  },
  {
   "cell_type": "markdown",
   "metadata": {},
   "source": [
    "# Final Ans:\n",
    "The governing matrix equation is:\n",
    "\n",
    "$$\\begin{gather}\n",
    "    \\begin{bmatrix}\n",
    "    500 & -500 & 0 & 0\\\\\n",
    "    -500 & 1500 & -600 & -400\\\\\n",
    "    0 & -600 & 1000 & -400\\\\\n",
    "    0 & -400 & -400 & 800\\\\\n",
    "    \\end{bmatrix}\n",
    "    *\n",
    "    \\begin{Bmatrix}\n",
    "    0 \\\\\n",
    "    u_2 \\\\\n",
    "    u_3 \\\\\n",
    "    0\n",
    "    \\end{Bmatrix}\n",
    "    =\n",
    "    \\begin{Bmatrix}\n",
    "    F1 \\\\\n",
    "    0 \\\\\n",
    "    1000 \\\\\n",
    "    F4\n",
    "    \\end{Bmatrix}    \n",
    "\\end{gather}$$"
   ]
  },
  {
   "cell_type": "code",
   "execution_count": null,
   "metadata": {},
   "outputs": [],
   "source": []
  }
 ],
 "metadata": {
  "kernelspec": {
   "display_name": "Python 3",
   "language": "python",
   "name": "python3"
  },
  "language_info": {
   "codemirror_mode": {
    "name": "ipython",
    "version": 3
   },
   "file_extension": ".py",
   "mimetype": "text/x-python",
   "name": "python",
   "nbconvert_exporter": "python",
   "pygments_lexer": "ipython3",
   "version": "3.8.3rc1"
  }
 },
 "nbformat": 4,
 "nbformat_minor": 4
}
