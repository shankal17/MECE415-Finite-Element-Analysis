{
 "cells": [
  {
   "cell_type": "markdown",
   "metadata": {},
   "source": [
    "# Problem 4.24 \n",
    "Use Mathcad, Matlab, ect to solve Logan Problems. Find the rections, nodal displacement and plot the interpolated displacement for the beams\n",
    "![title](images/P4.24.PNG)"
   ]
  },
  {
   "cell_type": "code",
   "execution_count": 1,
   "metadata": {},
   "outputs": [],
   "source": [
    "# Import necessary packages\n",
    "\n",
    "from matplotlib import pyplot as plt\n",
    "import numpy as np\n",
    "import sympy as sp\n",
    "sp.init_printing()\n",
    "%matplotlib inline"
   ]
  },
  {
   "cell_type": "code",
   "execution_count": 2,
   "metadata": {},
   "outputs": [
    {
     "data": {
      "text/latex": [
       "$\\displaystyle \\left[\\begin{matrix}30208.3333333333 & 1812500.0 & -30208.3333333333 & 1812500.0 & 0 & 0\\\\1812500.0 & 145000000.0 & -1812500.0 & 72500000.0 & 0 & 0\\\\-30208.3333333333 & -1812500.0 & 60416.6666666667 & 0 & -30208.3333333333 & 1812500.0\\\\1812500.0 & 72500000.0 & 0 & 290000000.0 & -1812500.0 & 72500000.0\\\\0 & 0 & -30208.3333333333 & -1812500.0 & 30208.3333333333 & -1812500.0\\\\0 & 0 & 1812500.0 & 72500000.0 & -1812500.0 & 145000000.0\\end{matrix}\\right]$"
      ],
      "text/plain": [
       "⎡30208.3333333333    1812500.0   -30208.3333333333   1812500.0           0    \n",
       "⎢                                                                             \n",
       "⎢    1812500.0      145000000.0     -1812500.0      72500000.0           0    \n",
       "⎢                                                                             \n",
       "⎢-30208.3333333333  -1812500.0   60416.6666666667        0       -30208.333333\n",
       "⎢                                                                             \n",
       "⎢    1812500.0      72500000.0           0          290000000.0     -1812500.0\n",
       "⎢                                                                             \n",
       "⎢        0               0       -30208.3333333333  -1812500.0   30208.3333333\n",
       "⎢                                                                             \n",
       "⎣        0               0           1812500.0      72500000.0      -1812500.0\n",
       "\n",
       "           0     ⎤\n",
       "                 ⎥\n",
       "           0     ⎥\n",
       "                 ⎥\n",
       "3333   1812500.0 ⎥\n",
       "                 ⎥\n",
       "      72500000.0 ⎥\n",
       "                 ⎥\n",
       "333   -1812500.0 ⎥\n",
       "                 ⎥\n",
       "      145000000.0⎦"
      ]
     },
     "execution_count": 2,
     "metadata": {},
     "output_type": "execute_result"
    }
   ],
   "source": [
    "# Initialize problem parameters\n",
    "\n",
    "E = 29e6\n",
    "I = 150\n",
    "L = 10*12\n",
    "w = 4000/12\n",
    "\n",
    "global_stiffness_matrix = E*I/sp.Pow(L, 3)*sp.Matrix([[12, 6*L, -12, 6*L, 0, 0],\\\n",
    "                                     [6*L, 4*sp.Pow(L, 2), -6*L, 2*sp.Pow(L, 2), 0,0],\n",
    "                                     [-12, -6*L, 24, 0, -12, 6*L],\n",
    "                                     [6*L, 2*sp.Pow(L, 2), 0, 8*sp.Pow(L, 2), -6*L, 2*sp.Pow(L, 2)],\n",
    "                                     [0, 0, -12, -6*L, 12, -6*L],\n",
    "                                     [0, 0, 6*L, 2*sp.Pow(L, 2), -6*L, 4*sp.Pow(L, 2)]])\n",
    "global_stiffness_matrix"
   ]
  },
  {
   "cell_type": "code",
   "execution_count": 3,
   "metadata": {},
   "outputs": [
    {
     "data": {
      "text/latex": [
       "$\\displaystyle \\left[\\begin{matrix}290000000.0 & -1812500.0 & 72500000.0\\\\-1812500.0 & 30208.3333333333 & -1812500.0\\\\72500000.0 & -1812500.0 & 145000000.0\\end{matrix}\\right]$"
      ],
      "text/plain": [
       "⎡290000000.0     -1812500.0     72500000.0 ⎤\n",
       "⎢                                          ⎥\n",
       "⎢-1812500.0   30208.3333333333  -1812500.0 ⎥\n",
       "⎢                                          ⎥\n",
       "⎣72500000.0      -1812500.0     145000000.0⎦"
      ]
     },
     "execution_count": 3,
     "metadata": {},
     "output_type": "execute_result"
    }
   ],
   "source": [
    "# Reduce stiffness matrix according to what is constrained\n",
    "\n",
    "reduced_stiffness_matrix = global_stiffness_matrix[3:, 3:]\n",
    "reduced_stiffness_matrix"
   ]
  },
  {
   "cell_type": "code",
   "execution_count": 4,
   "metadata": {},
   "outputs": [
    {
     "data": {
      "text/latex": [
       "$\\displaystyle \\left[\\begin{matrix}-160000.0\\\\-17000.0\\\\320000.0\\end{matrix}\\right]$"
      ],
      "text/plain": [
       "⎡-160000.0⎤\n",
       "⎢         ⎥\n",
       "⎢-17000.0 ⎥\n",
       "⎢         ⎥\n",
       "⎣320000.0 ⎦"
      ]
     },
     "execution_count": 4,
     "metadata": {},
     "output_type": "execute_result"
    }
   ],
   "source": [
    "# Generate equivalent node forces for distributed loads\n",
    "\n",
    "F_reduced_equivalent_nodal_forces = sp.Matrix([[-w*sp.Pow(L, 2)/30],\\\n",
    "                                              [-17*w*L/40],\n",
    "                                              [w*sp.Pow(L,2)/15]])\n",
    "F_reduced_equivalent_nodal_forces"
   ]
  },
  {
   "cell_type": "code",
   "execution_count": 5,
   "metadata": {},
   "outputs": [
    {
     "data": {
      "text/latex": [
       "$\\displaystyle \\left[\\begin{matrix}-0.0129655172413793\\\\-3.27724137931034\\\\-0.0322758620689655\\end{matrix}\\right]$"
      ],
      "text/plain": [
       "⎡-0.0129655172413793⎤\n",
       "⎢                   ⎥\n",
       "⎢ -3.27724137931034 ⎥\n",
       "⎢                   ⎥\n",
       "⎣-0.0322758620689655⎦"
      ]
     },
     "execution_count": 5,
     "metadata": {},
     "output_type": "execute_result"
    }
   ],
   "source": [
    "# Calculate displacements that are not constrained\n",
    "\n",
    "non_constrained_displacements = reduced_stiffness_matrix.LUsolve(F_reduced_equivalent_nodal_forces)\n",
    "non_constrained_displacements"
   ]
  },
  {
   "cell_type": "code",
   "execution_count": 6,
   "metadata": {},
   "outputs": [
    {
     "data": {
      "text/latex": [
       "$\\displaystyle \\left[\\begin{matrix}-20500.0\\\\-859999.999999999\\\\60500.0\\\\0\\\\-3.63797880709171 \\cdot 10^{-12}\\\\0\\end{matrix}\\right]$"
      ],
      "text/plain": [
       "⎡      -20500.0       ⎤\n",
       "⎢                     ⎥\n",
       "⎢  -859999.999999999  ⎥\n",
       "⎢                     ⎥\n",
       "⎢       60500.0       ⎥\n",
       "⎢                     ⎥\n",
       "⎢          0          ⎥\n",
       "⎢                     ⎥\n",
       "⎢-3.63797880709171e-12⎥\n",
       "⎢                     ⎥\n",
       "⎣          0          ⎦"
      ]
     },
     "execution_count": 6,
     "metadata": {},
     "output_type": "execute_result"
    }
   ],
   "source": [
    "# Calculate actual reaction forces\n",
    "\n",
    "global_displacements = sp.Matrix([0, 0, 0, non_constrained_displacements])\n",
    "effective_forces = global_stiffness_matrix*global_displacements\n",
    "equivalent_nodal_forces = sp.Matrix([-3*w*L/40,\\\n",
    "                                    -w*sp.Pow(L, 2)/60,\n",
    "                                    -w*L/2,\n",
    "                                    F_reduced_equivalent_nodal_forces])\n",
    "F = effective_forces - equivalent_nodal_forces\n",
    "F"
   ]
  },
  {
   "cell_type": "code",
   "execution_count": 7,
   "metadata": {},
   "outputs": [],
   "source": [
    "# Interpolate from nodal displacements according to shape functions\n",
    "\n",
    "def calculate_interpolated_displacement(x_data, length, v_1, phi_1, v_2, phi_2):\n",
    "    N1 = (1/(L**3))*(2*x_data**3 - 3*x_data**2*L + L**3)\n",
    "    N2 = (1/(L**3))*(L*x_data**3 - 2*L**2*x_data**2 + x_data*L**3)\n",
    "    N3 = (1/(L**3))*(-2*x_data**3 + 3*L*x_data**2)\n",
    "    N4 = (1/(L**3))*(L*x_data**3 - x_data**2*L**2)\n",
    "    return N1*v_1 + N2*phi_1 + N3*v_2 + N4*phi_2"
   ]
  },
  {
   "cell_type": "code",
   "execution_count": 8,
   "metadata": {},
   "outputs": [
    {
     "data": {
      "image/png": "[encoded data removed]",
      "text/plain": [
       "<Figure size 432x288 with 1 Axes>"
      ]
     },
     "metadata": {
      "needs_background": "light"
     },
     "output_type": "display_data"
    }
   ],
   "source": [
    "# Plot interpolated displacements\n",
    "\n",
    "fig = plt.figure()\n",
    "ax = fig.add_axes([0, 0, 1, 1])\n",
    "x = np.arange(0, L, 0.1)\n",
    "beam_element_1_displacement = calculate_interpolated_displacement(x, L, 0, 0, 0, non_constrained_displacements[0])\n",
    "beam_element_2_displacement = calculate_interpolated_displacement(x, L, 0, non_constrained_displacements[0], non_constrained_displacements[1], non_constrained_displacements[2])\n",
    "linewidth = 3\n",
    "ax.plot(x, beam_element_1_displacement, color='lime', linewidth=linewidth)\n",
    "ax.plot(x+L, beam_element_2_displacement, color='lime', linewidth=linewidth)\n",
    "plt.ylim(-5.5, 5.5)\n",
    "ax.grid(True)"
   ]
  },
  {
   "cell_type": "markdown",
   "metadata": {},
   "source": [
    "# Problem 4.29\n",
    "Use Mathcad, Matlab, ect to solve Logan Problem 4.29. Find the rections, nodal displacement and plot the interpolated displacement for the beam. Also plot the stress along the beam and confirm with CREO\n",
    "![title](images/P4.29.PNG)"
   ]
  },
  {
   "cell_type": "code",
   "execution_count": 9,
   "metadata": {},
   "outputs": [],
   "source": [
    "# Initialize problem parameters\n",
    "\n",
    "E, I, L, P, w = sp.symbols('E, I, L, P, w')\n",
    "E = 30e6\n",
    "I = 500\n",
    "L = 30*12\n",
    "P = 60e3\n",
    "w = 1000/12\n",
    "\n",
    "k_1 = ((E*3*I)/sp.Pow(L, 3))*sp.Matrix([[12, 6*L, -12, 6*L],\\\n",
    "                                        [6*L, 4*sp.Pow(L, 2), -6*L, 2*sp.Pow(L, 2)],\n",
    "                                        [-12, -6*L, 12, -6*L],\n",
    "                                        [6*L, 2*sp.Pow(L, 2), -6*L, 4*sp.Pow(L, 2)]])\n",
    "k_2 = ((E*I)/sp.Pow(L, 3))*sp.Matrix([[12, 6*L, -12, 6*L],\\\n",
    "                                      [6*L, 4*sp.Pow(L, 2), -6*L, 2*sp.Pow(L, 2)],\n",
    "                                      [-12, -6*L, 12, -6*L],\n",
    "                                      [6*L, 2*sp.Pow(L, 2), -6*L, 4*sp.Pow(L, 2)]])"
   ]
  },
  {
   "cell_type": "code",
   "execution_count": 10,
   "metadata": {},
   "outputs": [
    {
     "data": {
      "text/latex": [
       "$\\displaystyle \\left[\\begin{matrix}11574.0740740741 & 2083333.33333333 & -11574.0740740741 & 2083333.33333333 & 0 & 0\\\\2083333.33333333 & 500000000.0 & -2083333.33333333 & 250000000.0 & 0 & 0\\\\-11574.0740740741 & -2083333.33333333 & 15432.0987654321 & -1388888.88888889 & -3858.02469135802 & 694444.444444444\\\\2083333.33333333 & 250000000.0 & -1388888.88888889 & 666666666.666667 & -694444.444444444 & 83333333.3333333\\\\0 & 0 & -3858.02469135802 & -694444.444444444 & 3858.02469135802 & -694444.444444444\\\\0 & 0 & 694444.444444444 & 83333333.3333333 & -694444.444444444 & 166666666.666667\\end{matrix}\\right]$"
      ],
      "text/plain": [
       "⎡11574.0740740741   2083333.33333333   -11574.0740740741  2083333.33333333    \n",
       "⎢                                                                             \n",
       "⎢2083333.33333333      500000000.0     -2083333.33333333     250000000.0      \n",
       "⎢                                                                             \n",
       "⎢-11574.0740740741  -2083333.33333333  15432.0987654321   -1388888.88888889  -\n",
       "⎢                                                                             \n",
       "⎢2083333.33333333      250000000.0     -1388888.88888889  666666666.666667   -\n",
       "⎢                                                                             \n",
       "⎢        0                  0          -3858.02469135802  -694444.444444444  3\n",
       "⎢                                                                             \n",
       "⎣        0                  0          694444.444444444   83333333.3333333   -\n",
       "\n",
       "       0                  0        ⎤\n",
       "                                   ⎥\n",
       "       0                  0        ⎥\n",
       "                                   ⎥\n",
       "3858.02469135802  694444.444444444 ⎥\n",
       "                                   ⎥\n",
       "694444.444444444  83333333.3333333 ⎥\n",
       "                                   ⎥\n",
       "858.02469135802   -694444.444444444⎥\n",
       "                                   ⎥\n",
       "694444.444444444  166666666.666667 ⎦"
      ]
     },
     "execution_count": 10,
     "metadata": {},
     "output_type": "execute_result"
    }
   ],
   "source": [
    "# Generate global stiffness matrix for this problem\n",
    "\n",
    "global_stiffness_matrix = sp.zeros(6, 6)\n",
    "global_stiffness_matrix[0:4, 0:4] = global_stiffness_matrix[0:4, 0:4] + k_1\n",
    "global_stiffness_matrix[2:6, 2:6] = global_stiffness_matrix[2:6, 2:6] + k_2\n",
    "global_stiffness_matrix"
   ]
  },
  {
   "cell_type": "code",
   "execution_count": 11,
   "metadata": {},
   "outputs": [
    {
     "data": {
      "text/latex": [
       "$\\displaystyle \\left[\\begin{matrix}500000000.0 & 250000000.0 & 0\\\\250000000.0 & 666666666.666667 & 83333333.3333333\\\\0 & 83333333.3333333 & 166666666.666667\\end{matrix}\\right]$"
      ],
      "text/plain": [
       "⎡500000000.0    250000000.0            0        ⎤\n",
       "⎢                                               ⎥\n",
       "⎢250000000.0  666666666.666667  83333333.3333333⎥\n",
       "⎢                                               ⎥\n",
       "⎣     0       83333333.3333333  166666666.666667⎦"
      ]
     },
     "execution_count": 11,
     "metadata": {},
     "output_type": "execute_result"
    }
   ],
   "source": [
    "# construct reduced stiffness matrix (manually cause I'm running out of time)\n",
    "\n",
    "k_reduced = sp.zeros(3, 3)\n",
    "k_reduced[0, 0] = global_stiffness_matrix[1, 1]\n",
    "k_reduced[0, 1] = global_stiffness_matrix[1, 3]\n",
    "k_reduced[0, 2] = global_stiffness_matrix[1, 5]\n",
    "k_reduced[1, 0] = global_stiffness_matrix[3, 1]\n",
    "k_reduced[1, 1] = global_stiffness_matrix[3, 3]\n",
    "k_reduced[1, 2] = global_stiffness_matrix[3, 5]\n",
    "k_reduced[2, 0] = global_stiffness_matrix[5, 1]\n",
    "k_reduced[2, 1] = global_stiffness_matrix[5, 3]\n",
    "k_reduced[2, 2] = global_stiffness_matrix[5, 5]\n",
    "k_reduced"
   ]
  },
  {
   "cell_type": "code",
   "execution_count": 12,
   "metadata": {},
   "outputs": [
    {
     "data": {
      "text/latex": [
       "$\\displaystyle \\left[\\begin{matrix}-2700000.0\\\\1800000.0\\\\900000.0\\end{matrix}\\right]$"
      ],
      "text/plain": [
       "⎡-2700000.0⎤\n",
       "⎢          ⎥\n",
       "⎢1800000.0 ⎥\n",
       "⎢          ⎥\n",
       "⎣ 900000.0 ⎦"
      ]
     },
     "execution_count": 12,
     "metadata": {},
     "output_type": "execute_result"
    }
   ],
   "source": [
    "# Generate equivalent node forces for distributed loads\n",
    "\n",
    "F_reduced_equivalent_nodal_forces = sp.Matrix([-P*L/8, -w*sp.Pow(L, 2)/12 + P*L/8, w*sp.Pow(L, 2)/12])\n",
    "F_reduced_equivalent_nodal_forces"
   ]
  },
  {
   "cell_type": "code",
   "execution_count": 13,
   "metadata": {},
   "outputs": [
    {
     "data": {
      "text/latex": [
       "$\\displaystyle \\left[\\begin{matrix}-0.0081\\\\0.0054\\\\0.0027\\end{matrix}\\right]$"
      ],
      "text/plain": [
       "⎡-0.0081⎤\n",
       "⎢       ⎥\n",
       "⎢0.0054 ⎥\n",
       "⎢       ⎥\n",
       "⎣0.0027 ⎦"
      ]
     },
     "execution_count": 13,
     "metadata": {},
     "output_type": "execute_result"
    }
   ],
   "source": [
    "# Calculate displacements that are not constrained\n",
    "\n",
    "non_constrained_displacements = k_reduced.LUsolve(F_reduced_equivalent_nodal_forces)\n",
    "non_constrained_displacements"
   ]
  },
  {
   "cell_type": "code",
   "execution_count": 14,
   "metadata": {},
   "outputs": [
    {
     "data": {
      "text/latex": [
       "$\\displaystyle \\left[\\begin{matrix}0\\\\-0.0081\\\\0\\\\0.0054\\\\0\\\\0.0027\\end{matrix}\\right]$"
      ],
      "text/plain": [
       "⎡   0   ⎤\n",
       "⎢       ⎥\n",
       "⎢-0.0081⎥\n",
       "⎢       ⎥\n",
       "⎢   0   ⎥\n",
       "⎢       ⎥\n",
       "⎢0.0054 ⎥\n",
       "⎢       ⎥\n",
       "⎢   0   ⎥\n",
       "⎢       ⎥\n",
       "⎣0.0027 ⎦"
      ]
     },
     "execution_count": 14,
     "metadata": {},
     "output_type": "execute_result"
    }
   ],
   "source": [
    "# Calculate all displacements\n",
    "\n",
    "global_displacements = sp.Matrix([0,\\\n",
    "                                  non_constrained_displacements[0],\n",
    "                                  0,\n",
    "                                  non_constrained_displacements[1],\n",
    "                                  0,\n",
    "                                  non_constrained_displacements[2]])\n",
    "effective_forces = global_stiffness_matrix*global_displacements\n",
    "equivalent_nodal_forces = sp.Matrix([-P/2,\n",
    "                                    -P*L/8,\n",
    "                                    -P/2 - w*L/2,\n",
    "                                    -w*sp.Pow(L, 2)/12 + P*L/8,\n",
    "                                    -w*L/2,\n",
    "                                    w*sp.Pow(L, 2)/12])\n",
    "global_displacements"
   ]
  },
  {
   "cell_type": "code",
   "execution_count": 15,
   "metadata": {
    "scrolled": true
   },
   "outputs": [
    {
     "data": {
      "text/latex": [
       "$\\displaystyle \\left[\\begin{matrix}24375.0\\\\-4.65661287307739 \\cdot 10^{-10}\\\\56250.0\\\\-2.3283064365387 \\cdot 10^{-10}\\\\9375.0\\\\0\\end{matrix}\\right]$"
      ],
      "text/plain": [
       "⎡       24375.0       ⎤\n",
       "⎢                     ⎥\n",
       "⎢-4.65661287307739e-10⎥\n",
       "⎢                     ⎥\n",
       "⎢       56250.0       ⎥\n",
       "⎢                     ⎥\n",
       "⎢-2.3283064365387e-10 ⎥\n",
       "⎢                     ⎥\n",
       "⎢       9375.0        ⎥\n",
       "⎢                     ⎥\n",
       "⎣          0          ⎦"
      ]
     },
     "execution_count": 15,
     "metadata": {},
     "output_type": "execute_result"
    }
   ],
   "source": [
    "# Calculate actual reaction forces\n",
    "\n",
    "F = effective_forces - equivalent_nodal_forces\n",
    "F"
   ]
  },
  {
   "cell_type": "markdown",
   "metadata": {},
   "source": [
    "$R_a = 24.4\\,kip \\qquad R_b = 56.3\\,kip \\qquad R_c=9.38\\,kip$"
   ]
  },
  {
   "cell_type": "code",
   "execution_count": 19,
   "metadata": {},
   "outputs": [
    {
     "name": "stdout",
     "output_type": "stream",
     "text": [
      "max displacement is 0.613458658854167 in.\n"
     ]
    },
    {
     "data": {
      "image/png": "[encoded data removed]",
      "text/plain": [
       "<Figure size 432x288 with 1 Axes>"
      ]
     },
     "metadata": {
      "needs_background": "light"
     },
     "output_type": "display_data"
    }
   ],
   "source": [
    "# Plot interpolated deflections\n",
    "\n",
    "fig = plt.figure()\n",
    "ax = fig.add_axes([0, 0, 1, 1])\n",
    "x = np.arange(0, L, 0.1)\n",
    "beam_element_1_displacement = calculate_interpolated_displacement(x, L, 0, non_constrained_displacements[0], 0, non_constrained_displacements[1])\n",
    "beam_element_2_displacement = calculate_interpolated_displacement(x, L, 0, non_constrained_displacements[1], 0, non_constrained_displacements[2])\n",
    "max_displacement = np.amax(np.abs(beam_element_1_displacement))\n",
    "max_test = np.amax(np.abs(beam_element_1_displacement))\n",
    "if max_test > max_displacement:\n",
    "    max_displacement = max_test\n",
    "print(\"max displacement is {} in.\".format(max_test))\n",
    "linewidth = 3\n",
    "ax.plot(x, beam_element_1_displacement, color='lime', linewidth=linewidth)\n",
    "ax.plot(x+L, beam_element_2_displacement, color='lime', linewidth=linewidth)\n",
    "ax.set_title('Deflection Curve')\n",
    "plt.ylim(-3, 3)\n",
    "ax.grid(True)"
   ]
  }
 ],
 "metadata": {
  "kernelspec": {
   "display_name": "Python 3",
   "language": "python",
   "name": "python3"
  },
  "language_info": {
   "codemirror_mode": {
    "name": "ipython",
    "version": 3
   },
   "file_extension": ".py",
   "mimetype": "text/x-python",
   "name": "python",
   "nbconvert_exporter": "python",
   "pygments_lexer": "ipython3",
   "version": "3.8.3rc1"
  }
 },
 "nbformat": 4,
 "nbformat_minor": 4
}
